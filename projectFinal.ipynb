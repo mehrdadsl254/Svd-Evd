{
 "cells": [
  {
   "cell_type": "code",
   "execution_count": 2,
   "metadata": {},
   "outputs": [],
   "source": [
    "import numpy as np\n",
    "from sklearn.datasets import load_wine, fetch_openml, fetch_20newsgroups, fetch_covtype\n",
    "from sklearn.model_selection import train_test_split\n",
    "from sklearn.neighbors import KNeighborsClassifier\n",
    "from sklearn.preprocessing import StandardScaler\n",
    "from sklearn.feature_extraction.text import TfidfVectorizer\n",
    "import time\n",
    "import torch\n",
    "import torch.nn as nn\n",
    "import torch.optim as optim\n",
    "from torch.utils.data import DataLoader, TensorDataset\n",
    "from tqdm import tqdm\n",
    "import matplotlib.pyplot as plt # Added for plotting\n",
    "\n",
    "# 1. SVD Implementation from Scratch\n",
    "def svd_from_scratch(A):\n",
    "    with tqdm(total=3, desc=\"SVD Computation (Scratch)\") as pbar:\n",
    "        ATA = np.dot(A.T, A)\n",
    "        AAT = np.dot(A, A.T)\n",
    "        pbar.update(1)\n",
    "        \n",
    "        eigvals_V, V = np.linalg.eigh(ATA)\n",
    "        eigvals_U, U = np.linalg.eigh(AAT)\n",
    "        pbar.update(1)\n",
    "        \n",
    "        idx_V = eigvals_V.argsort()[::-1]\n",
    "        eigvals_V = eigvals_V[idx_V]\n",
    "        V = V[:, idx_V]\n",
    "        \n",
    "        idx_U = eigvals_U.argsort()[::-1]\n",
    "        eigvals_U = eigvals_U[idx_U]\n",
    "        U = U[:, idx_U]\n",
    "        \n",
    "        singular_values = np.sqrt(np.abs(eigvals_V))\n",
    "        singular_values = np.sort(singular_values)[::-1]\n",
    "        \n",
    "        diag_len = min(A.shape[0], A.shape[1])\n",
    "        Sigma_diag = singular_values[:diag_len] # 1D array of singular values\n",
    "\n",
    "        U_final = U[:, :diag_len]\n",
    "        Vt_final = V.T[:diag_len, :] # This Vt needs to be constructed carefully\n",
    "                                     # V are eigenvectors of A.T @ A. V.T needs to be (k, n_features)\n",
    "                                     # V from eigh(ATA) is (n_features, n_features)\n",
    "                                     # Vt_final should be V.T (all rows of V.T, truncated to diag_len columns if M < N)\n",
    "                                     # Or rather, Vt are the first 'diag_len' rows of the full V.T\n",
    "        # A more standard way:\n",
    "        # V comes from ATA. The columns of V are the right singular vectors.\n",
    "        # Vt = V.T\n",
    "        # singular_values are sqrt of eigenvalues of ATA (or AAT)\n",
    "        \n",
    "        # For the purpose of this function returning U, S_1D, Vt\n",
    "        # Let S_1D be the sorted singular values.\n",
    "        # U should be the corresponding left singular vectors\n",
    "        # Vt should be the corresponding right singular vectors (transposed)\n",
    "        pbar.update(1)\n",
    "    # This scratch SVD is complex to get perfectly aligned with np.linalg.svd especially for non-square A\n",
    "    # For now, we return what's calculated, but np.linalg.svd is used for most critical parts.\n",
    "    # The crucial part is Vt for the transformation matrix.\n",
    "    return U_final, Sigma_diag, V.T # V.T from eigh(ATA) is the correct Vt\n",
    "\n",
    "# 2. EVD Implementation from Scratch (for covariance matrix)\n",
    "def evd_from_scratch(A):\n",
    "    with tqdm(total=2, desc=\"EVD Computation\") as pbar:\n",
    "        cov_matrix = np.cov(A.T)\n",
    "        pbar.update(1)\n",
    "        eigvals, eigvecs = np.linalg.eigh(cov_matrix)\n",
    "        idx = eigvals.argsort()[::-1]\n",
    "        eigvals = eigvals[idx]\n",
    "        eigvecs = eigvecs[:, idx]\n",
    "        pbar.update(1)\n",
    "    return eigvals, eigvecs\n",
    "\n",
    "# 3. Get Transformation Matrices with Variance Retention\n",
    "def get_svd_transform_matrix(X, variance_retained=0.95, use_linalg_svd=False):\n",
    "    singular_values = None\n",
    "    Vt = None\n",
    "    if use_linalg_svd:\n",
    "        with tqdm(total=1, desc=\"SVD Computation (linalg.svd)\") as pbar:\n",
    "            try:\n",
    "                U, s, Vt = np.linalg.svd(X, full_matrices=False)\n",
    "                singular_values = s\n",
    "            except np.linalg.LinAlgError as e:\n",
    "                print(f\"SVD computation failed: {e}. Skipping SVD for this dataset.\")\n",
    "                return None\n",
    "            pbar.update(1)\n",
    "    else:\n",
    "        U_scratch, s_scratch, Vt_scratch = svd_from_scratch(X) # s_scratch is 1D\n",
    "        singular_values = s_scratch\n",
    "        Vt = Vt_scratch\n",
    "    \n",
    "    if singular_values is None or Vt is None:\n",
    "        print(\"SVD: Singular values or Vt not computed.\")\n",
    "        return None\n",
    "\n",
    "    variance_explained = singular_values**2 / np.sum(singular_values**2)\n",
    "    cumulative_variance = np.cumsum(variance_explained)\n",
    "    \n",
    "    k_candidates = np.where(cumulative_variance >= variance_retained)[0]\n",
    "    if len(k_candidates) == 0:\n",
    "        k = len(singular_values)\n",
    "    else:\n",
    "        k = k_candidates[0] + 1\n",
    "    \n",
    "    transform_matrix = Vt.T[:, :k]\n",
    "    \n",
    "    actual_variance_retained = cumulative_variance[k-1] if k > 0 and k <= len(cumulative_variance) else (cumulative_variance[-1] if len(cumulative_variance) > 0 else 0.0)\n",
    "    print(f\"SVD: Selected {k} components retaining {actual_variance_retained:.4f} variance.\")\n",
    "    return transform_matrix\n",
    "\n",
    "def get_evd_transform_matrix(X, variance_retained=0.95):\n",
    "    eigvals, eigvecs = evd_from_scratch(X)\n",
    "    total_variance = np.sum(eigvals)\n",
    "    if total_variance == 0:\n",
    "        print(\"EVD: Total variance is zero. Cannot determine components.\")\n",
    "        return eigvecs[:, :min(1, eigvecs.shape[1])] # return at least one component or empty if no eigvecs\n",
    "\n",
    "    cumulative_variance = np.cumsum(eigvals) / total_variance\n",
    "    k_candidates = np.where(cumulative_variance >= variance_retained)[0]\n",
    "    if len(k_candidates) == 0:\n",
    "        k = len(eigvals)\n",
    "    else:\n",
    "        k = k_candidates[0] + 1\n",
    "            \n",
    "    transform_matrix = eigvecs[:, :k]\n",
    "    actual_variance_retained = cumulative_variance[k-1] if k > 0 and k <= len(cumulative_variance) else (cumulative_variance[-1] if len(cumulative_variance) > 0 else 0.0)\n",
    "    print(f\"EVD: Selected {k} components retaining {actual_variance_retained:.4f} variance.\")\n",
    "    return transform_matrix\n",
    "\n"
   ]
  },
  {
   "cell_type": "code",
   "execution_count": 3,
   "metadata": {},
   "outputs": [],
   "source": [
    "# 4. Load and Preprocess Datasets\n",
    "def load_and_preprocess_data():\n",
    "    print(\"Loading and Preprocessing Sensorless, Wine, MNIST Datasets...\")\n",
    "    X_sensor_train, X_sensor_test, y_sensor_train, y_sensor_test = None, None, None, None\n",
    "    X_wine_train, X_wine_test, y_wine_train, y_wine_test = None, None, None, None\n",
    "    X_mnist_train, X_mnist_test, y_mnist_train_all, y_mnist_test_labels = None, None, None, None # Renamed y_mnist_test\n",
    "\n",
    "    with tqdm(total=6, desc=\"Data Preprocessing (S/W/M)\") as pbar:\n",
    "        try:\n",
    "            data = np.loadtxt(\"Sensorless_drive_diagnosis.txt\", delimiter=' ')\n",
    "            X_sensor = data[:, :-1]\n",
    "            y_sensor = data[:, -1] - 1\n",
    "            scaler_sensor = StandardScaler()\n",
    "            X_sensor = scaler_sensor.fit_transform(X_sensor)\n",
    "            X_sensor_train, X_sensor_test, y_sensor_train, y_sensor_test = train_test_split(\n",
    "                X_sensor, y_sensor, test_size=0.2, random_state=42, stratify=y_sensor)\n",
    "        except FileNotFoundError:\n",
    "            print(\"Sensorless_drive_diagnosis.txt not found. Skipping Sensorless dataset.\")\n",
    "        except Exception as e:\n",
    "            print(f\"Error loading Sensorless dataset: {e}. Skipping.\")\n",
    "        pbar.update(1)\n",
    "        \n",
    "        try:\n",
    "            wine = load_wine()\n",
    "            X_wine = wine.data\n",
    "            y_wine = wine.target\n",
    "            scaler_wine = StandardScaler()\n",
    "            X_wine = scaler_wine.fit_transform(X_wine)\n",
    "            X_wine_train, X_wine_test, y_wine_train, y_wine_test = train_test_split(\n",
    "                X_wine, y_wine, test_size=0.2, random_state=42, stratify=y_wine)\n",
    "        except Exception as e:\n",
    "            print(f\"Error loading Wine dataset: {e}. Skipping.\")\n",
    "        pbar.update(1)\n",
    "        \n",
    "        try:\n",
    "            mnist = fetch_openml('mnist_784', version=1, as_frame=False, parser='auto')\n",
    "            X_mnist = mnist.data\n",
    "            y_mnist = mnist.target.astype(int)\n",
    "            X_mnist_train_all_samples = X_mnist[:60000]\n",
    "            y_mnist_train_all = y_mnist[:60000] # y_mnist_train_all for training\n",
    "            X_mnist_test_samples = X_mnist[60000:]\n",
    "            y_mnist_test_labels = y_mnist[60000:] # y_mnist_test_labels for ground truth\n",
    "            \n",
    "            scaler_mnist = StandardScaler()\n",
    "            X_mnist_train = scaler_mnist.fit_transform(X_mnist_train_all_samples)\n",
    "            X_mnist_test = scaler_mnist.transform(X_mnist_test_samples) # X_mnist_test for model input\n",
    "        except Exception as e:\n",
    "            print(f\"Failed to load MNIST: {e}. Skipping MNIST dataset.\")\n",
    "        pbar.update(4)\n",
    "    \n",
    "    return (X_sensor_train, X_sensor_test, y_sensor_train, y_sensor_test), \\\n",
    "           (X_wine_train, X_wine_test, y_wine_train, y_wine_test), \\\n",
    "           (X_mnist_train, X_mnist_test, y_mnist_train_all, y_mnist_test_labels)\n",
    "\n",
    "def load_and_preprocess_newsgroups():\n",
    "    try:\n",
    "        print(\"Loading and Preprocessing 20 Newsgroups Dataset...\")\n",
    "        with tqdm(total=3, desc=\"Newsgroups Preprocessing\") as pbar:\n",
    "            newsgroups_train_data = fetch_20newsgroups(subset='train', shuffle=True, random_state=42, remove=('headers', 'footers', 'quotes'))\n",
    "            newsgroups_test_data = fetch_20newsgroups(subset='test', shuffle=True, random_state=42, remove=('headers', 'footers', 'quotes'))\n",
    "            pbar.update(1)\n",
    "            vectorizer = TfidfVectorizer(max_features=5000, stop_words='english')\n",
    "            X_news_train = vectorizer.fit_transform(newsgroups_train_data.data).toarray()\n",
    "            y_news_train = newsgroups_train_data.target\n",
    "            pbar.update(1)\n",
    "            X_news_test = vectorizer.transform(newsgroups_test_data.data).toarray()\n",
    "            y_news_test = newsgroups_test_data.target\n",
    "            pbar.update(1)\n",
    "        return X_news_train, X_news_test, y_news_train, y_news_test\n",
    "    except Exception as e:\n",
    "        print(f\"Failed to load 20 Newsgroups: {e}. Skipping Newsgroups dataset.\")\n",
    "        return None, None, None, None\n",
    "\n",
    "def load_and_preprocess_covtype(test_size=0.2, random_state=42):\n",
    "    try:\n",
    "        print(\"Loading and Preprocessing Covertype Dataset...\")\n",
    "        with tqdm(total=4, desc=\"Covertype Preprocessing\") as pbar:\n",
    "            covtype = fetch_covtype()\n",
    "            X = covtype.data\n",
    "            y = covtype.target - 1\n",
    "            pbar.update(1)\n",
    "            X_train, X_test, y_train, y_test = train_test_split(\n",
    "                X, y, test_size=test_size, random_state=random_state, stratify=y)\n",
    "            pbar.update(1)\n",
    "            scaler = StandardScaler()\n",
    "            X_train = scaler.fit_transform(X_train)\n",
    "            pbar.update(1)\n",
    "            X_test = scaler.transform(X_test)\n",
    "            pbar.update(1)\n",
    "        return X_train, X_test, y_train, y_test\n",
    "    except Exception as e:\n",
    "        print(f\"Failed to load Covertype: {e}. Skipping Covertype dataset.\")\n",
    "        return None, None, None, None\n",
    "\n"
   ]
  },
  {
   "cell_type": "code",
   "execution_count": 4,
   "metadata": {},
   "outputs": [],
   "source": [
    "# 5. Train and Evaluate KNN\n",
    "def train_knn(X_train, X_test, y_train, y_test, label):\n",
    "    if X_train is None or y_train is None or X_train.shape[0] == 0:\n",
    "        print(f\"Skipping KNN for {label} due to missing/empty training data.\")\n",
    "        return 0.0\n",
    "    if X_test is None or y_test is None or X_test.shape[0] == 0 :\n",
    "        print(f\"Skipping KNN for {label} due to missing/empty test data.\")\n",
    "        # Can't compute accuracy, but model could still be trained.\n",
    "        # For this script's purpose, if test data is missing, skip.\n",
    "        return 0.0\n",
    "        \n",
    "    knn = KNeighborsClassifier(n_neighbors=min(5, X_train.shape[0]))\n",
    "    with tqdm(total=2, desc=f\"KNN Training ({label})\") as pbar:\n",
    "        start_time = time.time()\n",
    "        knn.fit(X_train, y_train)\n",
    "        train_time = time.time() - start_time\n",
    "        pbar.update(1)\n",
    "        accuracy = 0.0\n",
    "        inference_time = 0.0\n",
    "        if X_test is not None and y_test is not None and X_test.shape[0] > 0:\n",
    "             start_time = time.time()\n",
    "             accuracy = knn.score(X_test, y_test)\n",
    "             inference_time = time.time() - start_time\n",
    "        pbar.update(1)\n",
    "    \n",
    "    print(f\"{label} - Features: {X_train.shape[1]}, Accuracy: {accuracy:.4f}, \"\n",
    "          f\"Training Time: {train_time:.2f}s, Inference Time: {inference_time:.2f}s\")\n",
    "    return accuracy # Model itself isn't returned here, but could be if needed\n",
    "\n"
   ]
  },
  {
   "cell_type": "code",
   "execution_count": 5,
   "metadata": {},
   "outputs": [],
   "source": [
    "# 6. Neural Network Definition (PyTorch)\n",
    "class ClassifierNet(nn.Module):\n",
    "    def __init__(self, input_dim, output_dim):\n",
    "        super(ClassifierNet, self).__init__()\n",
    "        self.fc1 = nn.Linear(input_dim, 128)\n",
    "        self.relu1 = nn.ReLU()\n",
    "        self.fc2 = nn.Linear(128, 64)\n",
    "        self.relu2 = nn.ReLU()\n",
    "        self.fc3 = nn.Linear(64, output_dim)\n",
    "    \n",
    "    def forward(self, x):\n",
    "        x = self.relu1(self.fc1(x))\n",
    "        x = self.relu2(self.fc2(x))\n",
    "        x = self.fc3(x)\n",
    "        return x\n",
    "\n",
    "# 7. Train and Evaluate Neural Network (MODIFIED TO RETURN MODEL)\n",
    "def train_neural_network(X_train, X_test, y_train, y_test, label, output_dim, epochs=10):\n",
    "    if X_train is None or y_train is None or X_train.shape[0] == 0 or X_train.shape[1] == 0:\n",
    "        print(f\"Skipping NN for {label} due to missing/empty/zero-feature training data.\")\n",
    "        return None, 0.0\n",
    "    \n",
    "    X_train_tensor = torch.FloatTensor(X_train)\n",
    "    y_train_tensor = torch.LongTensor(y_train)\n",
    "    \n",
    "    batch_size = 32 if X_train.shape[0] < 100000 else 128 \n",
    "    train_dataset = TensorDataset(X_train_tensor, y_train_tensor)\n",
    "    train_loader = DataLoader(train_dataset, batch_size=batch_size, shuffle=True)\n",
    "    \n",
    "    model = ClassifierNet(input_dim=X_train.shape[1], output_dim=output_dim)\n",
    "    criterion = nn.CrossEntropyLoss()\n",
    "    optimizer = optim.Adam(model.parameters())\n",
    "    \n",
    "    start_time = time.time()\n",
    "    model.train()\n",
    "    for epoch in tqdm(range(epochs), desc=f\"NN Training ({label}) - E{epochs} B{batch_size}\"):\n",
    "        for data, target_batch in train_loader: # Renamed target to target_batch\n",
    "            optimizer.zero_grad()\n",
    "            output = model(data)\n",
    "            loss = criterion(output, target_batch)\n",
    "            loss.backward()\n",
    "            optimizer.step()\n",
    "    train_time = time.time() - start_time\n",
    "    \n",
    "    accuracy = 0.0\n",
    "    inference_time = 0.0\n",
    "    if X_test is not None and y_test is not None and X_test.shape[0] > 0:\n",
    "        X_test_tensor = torch.FloatTensor(X_test)\n",
    "        y_test_tensor = torch.LongTensor(y_test)\n",
    "        model.eval()\n",
    "        with tqdm(total=1, desc=f\"NN Evaluation ({label})\") as pbar:\n",
    "            eval_start_time = time.time()\n",
    "            with torch.no_grad():\n",
    "                if X_test_tensor.shape[0] > 20000:\n",
    "                    test_dataset = TensorDataset(X_test_tensor, y_test_tensor)\n",
    "                    test_loader = DataLoader(test_dataset, batch_size=1024, shuffle=False)\n",
    "                    correct_preds, total_preds = 0, 0\n",
    "                    for data, target_batch in test_loader: # Renamed target to target_batch\n",
    "                        output = model(data)\n",
    "                        _, predicted = torch.max(output, 1)\n",
    "                        correct_preds += (predicted == target_batch).sum().item()\n",
    "                        total_preds += target_batch.size(0)\n",
    "                    if total_preds > 0: accuracy = correct_preds / total_preds\n",
    "                else:\n",
    "                    output = model(X_test_tensor)\n",
    "                    _, predicted = torch.max(output, 1)\n",
    "                    accuracy = (predicted == y_test_tensor).float().mean().item()\n",
    "            inference_time = time.time() - eval_start_time\n",
    "            pbar.update(1)\n",
    "    \n",
    "    print(f\"{label} - Features: {X_train.shape[1]}, Accuracy: {accuracy:.4f}, \"\n",
    "          f\"Training Time: {train_time:.2f}s, Inference Time: {inference_time:.2f}s\")\n",
    "    return model, accuracy # Return the trained model and accuracy\n",
    "\n"
   ]
  },
  {
   "cell_type": "code",
   "execution_count": 6,
   "metadata": {},
   "outputs": [],
   "source": [
    "# 8. Function to show MNIST predictions (NEW)\n",
    "def show_mnist_predictions(images_scaled, true_labels, model_orig, model_svd, model_evd, V_svd_transform, eigvecs_evd_transform, num_images=6):\n",
    "    if images_scaled is None or true_labels is None or \\\n",
    "       model_orig is None or model_svd is None or model_evd is None or \\\n",
    "       V_svd_transform is None or eigvecs_evd_transform is None:\n",
    "        print(\"Cannot show MNIST predictions due to missing components.\")\n",
    "        return\n",
    "\n",
    "    print(\"\\nDisplaying MNIST Predictions...\")\n",
    "    \n",
    "    # Select a few images\n",
    "    sample_indices = np.random.choice(images_scaled.shape[0], num_images, replace=False)\n",
    "    sample_images_scaled = images_scaled[sample_indices]\n",
    "    sample_labels = true_labels[sample_indices]\n",
    "\n",
    "    fig, axes = plt.subplots(2, (num_images + 1) // 2, figsize=(12, 7))\n",
    "    axes = axes.flatten()\n",
    "\n",
    "    model_orig.eval()\n",
    "    model_svd.eval()\n",
    "    model_evd.eval()\n",
    "\n",
    "    for i in range(num_images):\n",
    "        if i >= len(axes): break # Should not happen with current setup\n",
    "\n",
    "        img_scaled = sample_images_scaled[i] # This is scaled and 1D (784,)\n",
    "        \n",
    "        # For display, reshape (original MNIST images are 28x28)\n",
    "        # The scaler alters the range, but cmap='gray' will work.\n",
    "        display_img = img_scaled.reshape(28, 28)\n",
    "        \n",
    "        # Predictions\n",
    "        pred_orig, pred_svd, pred_evd = \"N/A\", \"N/A\", \"N/A\"\n",
    "\n",
    "        with torch.no_grad():\n",
    "            # Original model\n",
    "            img_tensor_orig = torch.FloatTensor(img_scaled).unsqueeze(0)\n",
    "            output_orig = model_orig(img_tensor_orig)\n",
    "            pred_orig = torch.max(output_orig, 1)[1].item()\n",
    "\n",
    "            # SVD model\n",
    "            if V_svd_transform is not None:\n",
    "                img_svd = img_scaled @ V_svd_transform\n",
    "                img_tensor_svd = torch.FloatTensor(img_svd).unsqueeze(0)\n",
    "                if img_tensor_svd.shape[1] == model_svd.fc1.in_features: # Check feature compatibility\n",
    "                    output_svd = model_svd(img_tensor_svd)\n",
    "                    pred_svd = torch.max(output_svd, 1)[1].item()\n",
    "                else:\n",
    "                    pred_svd = \"Dim mismatch\"\n",
    "\n",
    "\n",
    "            # EVD model\n",
    "            if eigvecs_evd_transform is not None:\n",
    "                img_evd = img_scaled @ eigvecs_evd_transform\n",
    "                img_tensor_evd = torch.FloatTensor(img_evd).unsqueeze(0)\n",
    "                if img_tensor_evd.shape[1] == model_evd.fc1.in_features: # Check feature compatibility\n",
    "                    output_evd = model_evd(img_tensor_evd)\n",
    "                    pred_evd = torch.max(output_evd, 1)[1].item()\n",
    "                else:\n",
    "                    pred_evd = \"Dim mismatch\"\n",
    "\n",
    "        ax = axes[i]\n",
    "        ax.imshow(display_img, cmap='gray')\n",
    "        ax.set_title(f\"True: {sample_labels[i]}\\nOrig: {pred_orig}, SVD: {pred_svd}, EVD: {pred_evd}\", fontsize=9)\n",
    "        ax.axis('off')\n",
    "    \n",
    "    plt.tight_layout()\n",
    "    plt.show()\n",
    "\n",
    "\n"
   ]
  },
  {
   "cell_type": "code",
   "execution_count": 7,
   "metadata": {},
   "outputs": [
    {
     "name": "stdout",
     "output_type": "stream",
     "text": [
      "Loading and Preprocessing Sensorless, Wine, MNIST Datasets...\n"
     ]
    },
    {
     "name": "stderr",
     "output_type": "stream",
     "text": [
      "Data Preprocessing (S/W/M): 100%|██████████| 6/6 [00:02<00:00,  2.39it/s]\n"
     ]
    },
    {
     "name": "stdout",
     "output_type": "stream",
     "text": [
      "Loading and Preprocessing 20 Newsgroups Dataset...\n"
     ]
    },
    {
     "name": "stderr",
     "output_type": "stream",
     "text": [
      "Newsgroups Preprocessing: 100%|██████████| 3/3 [00:01<00:00,  1.53it/s]\n"
     ]
    },
    {
     "name": "stdout",
     "output_type": "stream",
     "text": [
      "Loading and Preprocessing Covertype Dataset...\n"
     ]
    },
    {
     "name": "stderr",
     "output_type": "stream",
     "text": [
      "Covertype Preprocessing: 100%|██████████| 4/4 [00:00<00:00,  6.40it/s]\n"
     ]
    }
   ],
   "source": [
    "# 9. Main Execution (MODIFIED TO STORE MNIST MODELS AND CALL PLOTTING)\n",
    "\n",
    "# Load datasets\n",
    "(X_sensor_train, X_sensor_test, y_sensor_train, y_sensor_test), \\\n",
    "(X_wine_train, X_wine_test, y_wine_train, y_wine_test), \\\n",
    "(X_mnist_train, X_mnist_test_scaled, y_mnist_train, y_mnist_test_true_labels) = load_and_preprocess_data() # X_mnist_test is scaled\n",
    "\n",
    "X_news_train, X_news_test, y_news_train, y_news_test = load_and_preprocess_newsgroups()\n",
    "X_cov_train, X_cov_test, y_cov_train, y_cov_test = load_and_preprocess_covtype()\n",
    "\n",
    "# --- Storage for MNIST specific models and transforms ---\n",
    "mnist_components = {\n",
    "    \"model_orig\": None, \"model_svd\": None, \"model_evd\": None,\n",
    "    \"V_svd_transform\": None, \"eigvecs_evd_transform\": None,\n",
    "    \"X_test_scaled\": X_mnist_test_scaled, # Scaled test features\n",
    "    \"y_test_true\": y_mnist_test_true_labels   # True labels for test set\n",
    "}\n",
    "\n",
    "datasets_for_nn = []\n",
    "if X_sensor_train is not None:\n",
    "    datasets_for_nn.append({\n",
    "        \"name\": \"Sensorless\", \"X_train\": X_sensor_train, \"X_test\": X_sensor_test, \n",
    "        \"y_train\": y_sensor_train, \"y_test\": y_sensor_test, \"output_dim\": 11, \"use_linalg_svd\": True\n",
    "    })\n",
    "if X_mnist_train is not None: # Check if MNIST data loaded\n",
    "    datasets_for_nn.append({\n",
    "        \"name\": \"MNIST\", \"X_train\": X_mnist_train, \"X_test\": X_mnist_test_scaled, # Use scaled test data\n",
    "        \"y_train\": y_mnist_train, \"y_test\": y_mnist_test_true_labels, \"output_dim\": 10, \"use_linalg_svd\": True\n",
    "    })\n",
    "if X_news_train is not None:\n",
    "        datasets_for_nn.append({\n",
    "        \"name\": \"Newsgroups\", \"X_train\": X_news_train, \"X_test\": X_news_test,\n",
    "        \"y_train\": y_news_train, \"y_test\": y_news_test, \"output_dim\": 20, \"use_linalg_svd\": True\n",
    "    })\n",
    "if X_cov_train is not None:\n",
    "    datasets_for_nn.append({\n",
    "        \"name\": \"Covertype\", \"X_train\": X_cov_train, \"X_test\": X_cov_test,\n",
    "        \"y_train\": y_cov_train, \"y_test\": y_cov_test, \"output_dim\": 7, \"use_linalg_svd\": True\n",
    "    })\n",
    "\n"
   ]
  },
  {
   "cell_type": "markdown",
   "metadata": {},
   "source": [
    "## 95% variance"
   ]
  },
  {
   "cell_type": "code",
   "execution_count": 7,
   "metadata": {},
   "outputs": [
    {
     "name": "stdout",
     "output_type": "stream",
     "text": [
      "\n",
      "Wine Original Features: 13\n"
     ]
    },
    {
     "name": "stderr",
     "output_type": "stream",
     "text": [
      "SVD Computation (Scratch): 100%|██████████| 3/3 [00:00<00:00, 599.30it/s]\n"
     ]
    },
    {
     "name": "stdout",
     "output_type": "stream",
     "text": [
      "SVD: Selected 10 components retaining 0.9629 variance.\n"
     ]
    },
    {
     "name": "stderr",
     "output_type": "stream",
     "text": [
      "EVD Computation: 100%|██████████| 2/2 [00:00<00:00, 3695.42it/s]\n"
     ]
    },
    {
     "name": "stdout",
     "output_type": "stream",
     "text": [
      "EVD: Selected 10 components retaining 0.9629 variance.\n",
      "Wine SVD Reduced Features: 10\n",
      "Wine EVD Reduced Features: 10\n",
      "\n",
      "KNN Results on Wine Dataset:\n"
     ]
    },
    {
     "name": "stderr",
     "output_type": "stream",
     "text": [
      "KNN Training (Original Data (Wine)): 100%|██████████| 2/2 [00:00<00:00, 273.38it/s]\n"
     ]
    },
    {
     "name": "stdout",
     "output_type": "stream",
     "text": [
      "Original Data (Wine) - Features: 13, Accuracy: 0.9722, Training Time: 0.00s, Inference Time: 0.00s\n"
     ]
    },
    {
     "name": "stderr",
     "output_type": "stream",
     "text": [
      "KNN Training (SVD Reduced Data (Wine)): 100%|██████████| 2/2 [00:00<00:00, 564.21it/s]\n"
     ]
    },
    {
     "name": "stdout",
     "output_type": "stream",
     "text": [
      "SVD Reduced Data (Wine) - Features: 10, Accuracy: 0.9722, Training Time: 0.00s, Inference Time: 0.00s\n"
     ]
    },
    {
     "name": "stderr",
     "output_type": "stream",
     "text": [
      "KNN Training (EVD Reduced Data (Wine)): 100%|██████████| 2/2 [00:00<00:00, 344.59it/s]\n"
     ]
    },
    {
     "name": "stdout",
     "output_type": "stream",
     "text": [
      "EVD Reduced Data (Wine) - Features: 10, Accuracy: 0.9722, Training Time: 0.00s, Inference Time: 0.00s\n",
      "\n",
      "Sensorless Original Features: 48\n"
     ]
    },
    {
     "name": "stderr",
     "output_type": "stream",
     "text": [
      "SVD Computation (linalg.svd): 100%|██████████| 1/1 [00:00<00:00, 13.09it/s]\n"
     ]
    },
    {
     "name": "stdout",
     "output_type": "stream",
     "text": [
      "SVD: Selected 21 components retaining 0.9575 variance.\n"
     ]
    },
    {
     "name": "stderr",
     "output_type": "stream",
     "text": [
      "EVD Computation: 100%|██████████| 2/2 [00:00<00:00, 202.16it/s]\n"
     ]
    },
    {
     "name": "stdout",
     "output_type": "stream",
     "text": [
      "EVD: Selected 21 components retaining 0.9575 variance.\n",
      "Sensorless SVD Reduced Features: 21\n",
      "Sensorless EVD Reduced Features: 21\n",
      "\n",
      "Neural Network Results on Sensorless Dataset:\n"
     ]
    },
    {
     "name": "stderr",
     "output_type": "stream",
     "text": [
      "NN Training (Original Data (Sensorless)) - E10 B32: 100%|██████████| 10/10 [00:08<00:00,  1.21it/s]\n",
      "NN Evaluation (Original Data (Sensorless)): 100%|██████████| 1/1 [00:00<00:00, 245.17it/s]\n"
     ]
    },
    {
     "name": "stdout",
     "output_type": "stream",
     "text": [
      "Original Data (Sensorless) - Features: 48, Accuracy: 0.9900, Training Time: 8.23s, Inference Time: 0.00s\n"
     ]
    },
    {
     "name": "stderr",
     "output_type": "stream",
     "text": [
      "NN Training (SVD Reduced Data (Sensorless)) - E10 B32: 100%|██████████| 10/10 [00:07<00:00,  1.26it/s]\n",
      "NN Evaluation (SVD Reduced Data (Sensorless)): 100%|██████████| 1/1 [00:00<00:00, 291.74it/s]\n"
     ]
    },
    {
     "name": "stdout",
     "output_type": "stream",
     "text": [
      "SVD Reduced Data (Sensorless) - Features: 21, Accuracy: 0.9807, Training Time: 7.92s, Inference Time: 0.00s\n"
     ]
    },
    {
     "name": "stderr",
     "output_type": "stream",
     "text": [
      "NN Training (EVD Reduced Data (Sensorless)) - E10 B32: 100%|██████████| 10/10 [00:08<00:00,  1.18it/s]\n",
      "NN Evaluation (EVD Reduced Data (Sensorless)): 100%|██████████| 1/1 [00:00<00:00, 274.33it/s]\n"
     ]
    },
    {
     "name": "stdout",
     "output_type": "stream",
     "text": [
      "EVD Reduced Data (Sensorless) - Features: 21, Accuracy: 0.9836, Training Time: 8.47s, Inference Time: 0.00s\n",
      "\n",
      "MNIST Original Features: 784\n"
     ]
    },
    {
     "name": "stderr",
     "output_type": "stream",
     "text": [
      "SVD Computation (linalg.svd): 100%|██████████| 1/1 [00:11<00:00, 11.08s/it]\n"
     ]
    },
    {
     "name": "stdout",
     "output_type": "stream",
     "text": [
      "SVD: Selected 331 components retaining 0.9503 variance.\n"
     ]
    },
    {
     "name": "stderr",
     "output_type": "stream",
     "text": [
      "EVD Computation: 100%|██████████| 2/2 [00:01<00:00,  1.89it/s]\n"
     ]
    },
    {
     "name": "stdout",
     "output_type": "stream",
     "text": [
      "EVD: Selected 331 components retaining 0.9503 variance.\n",
      "MNIST SVD Reduced Features: 331\n",
      "MNIST EVD Reduced Features: 331\n",
      "\n",
      "Neural Network Results on MNIST Dataset:\n"
     ]
    },
    {
     "name": "stderr",
     "output_type": "stream",
     "text": [
      "NN Training (Original Data (MNIST)) - E10 B32: 100%|██████████| 10/10 [00:27<00:00,  2.78s/it]\n",
      "NN Evaluation (Original Data (MNIST)): 100%|██████████| 1/1 [00:00<00:00, 68.08it/s]\n"
     ]
    },
    {
     "name": "stdout",
     "output_type": "stream",
     "text": [
      "Original Data (MNIST) - Features: 784, Accuracy: 0.9770, Training Time: 27.82s, Inference Time: 0.01s\n"
     ]
    },
    {
     "name": "stderr",
     "output_type": "stream",
     "text": [
      "NN Training (SVD Reduced Data (MNIST)) - E10 B32: 100%|██████████| 10/10 [00:18<00:00,  1.81s/it]\n",
      "NN Evaluation (SVD Reduced Data (MNIST)): 100%|██████████| 1/1 [00:00<00:00, 193.05it/s]\n"
     ]
    },
    {
     "name": "stdout",
     "output_type": "stream",
     "text": [
      "SVD Reduced Data (MNIST) - Features: 331, Accuracy: 0.9706, Training Time: 18.14s, Inference Time: 0.01s\n"
     ]
    },
    {
     "name": "stderr",
     "output_type": "stream",
     "text": [
      "NN Training (EVD Reduced Data (MNIST)) - E10 B32: 100%|██████████| 10/10 [00:15<00:00,  1.53s/it]\n",
      "NN Evaluation (EVD Reduced Data (MNIST)): 100%|██████████| 1/1 [00:00<00:00, 205.63it/s]\n"
     ]
    },
    {
     "name": "stdout",
     "output_type": "stream",
     "text": [
      "EVD Reduced Data (MNIST) - Features: 331, Accuracy: 0.9746, Training Time: 15.31s, Inference Time: 0.00s\n",
      "\n",
      "Newsgroups Original Features: 5000\n"
     ]
    },
    {
     "name": "stderr",
     "output_type": "stream",
     "text": [
      "SVD Computation (linalg.svd): 100%|██████████| 1/1 [02:08<00:00, 128.21s/it]\n"
     ]
    },
    {
     "name": "stdout",
     "output_type": "stream",
     "text": [
      "SVD: Selected 3172 components retaining 0.9500 variance.\n"
     ]
    },
    {
     "name": "stderr",
     "output_type": "stream",
     "text": [
      "EVD Computation: 100%|██████████| 2/2 [00:32<00:00, 16.35s/it]\n"
     ]
    },
    {
     "name": "stdout",
     "output_type": "stream",
     "text": [
      "EVD: Selected 3183 components retaining 0.9500 variance.\n",
      "Newsgroups SVD Reduced Features: 3172\n",
      "Newsgroups EVD Reduced Features: 3183\n",
      "\n",
      "Neural Network Results on Newsgroups Dataset:\n"
     ]
    },
    {
     "name": "stderr",
     "output_type": "stream",
     "text": [
      "NN Training (Original Data (Newsgroups)) - E10 B32: 100%|██████████| 10/10 [00:08<00:00,  1.20it/s]\n",
      "NN Evaluation (Original Data (Newsgroups)): 100%|██████████| 1/1 [00:00<00:00, 36.21it/s]\n"
     ]
    },
    {
     "name": "stdout",
     "output_type": "stream",
     "text": [
      "Original Data (Newsgroups) - Features: 5000, Accuracy: 0.5901, Training Time: 8.38s, Inference Time: 0.03s\n"
     ]
    },
    {
     "name": "stderr",
     "output_type": "stream",
     "text": [
      "NN Training (SVD Reduced Data (Newsgroups)) - E10 B32: 100%|██████████| 10/10 [00:05<00:00,  1.68it/s]\n",
      "NN Evaluation (SVD Reduced Data (Newsgroups)): 100%|██████████| 1/1 [00:00<00:00, 53.21it/s]\n"
     ]
    },
    {
     "name": "stdout",
     "output_type": "stream",
     "text": [
      "SVD Reduced Data (Newsgroups) - Features: 3172, Accuracy: 0.5514, Training Time: 5.94s, Inference Time: 0.02s\n"
     ]
    },
    {
     "name": "stderr",
     "output_type": "stream",
     "text": [
      "NN Training (EVD Reduced Data (Newsgroups)) - E10 B32: 100%|██████████| 10/10 [00:05<00:00,  1.78it/s]\n",
      "NN Evaluation (EVD Reduced Data (Newsgroups)): 100%|██████████| 1/1 [00:00<00:00, 58.80it/s]\n"
     ]
    },
    {
     "name": "stdout",
     "output_type": "stream",
     "text": [
      "EVD Reduced Data (Newsgroups) - Features: 3183, Accuracy: 0.5543, Training Time: 5.63s, Inference Time: 0.02s\n",
      "\n",
      "Covertype Original Features: 54\n"
     ]
    },
    {
     "name": "stderr",
     "output_type": "stream",
     "text": [
      "SVD Computation (linalg.svd): 100%|██████████| 1/1 [00:02<00:00,  2.05s/it]\n"
     ]
    },
    {
     "name": "stdout",
     "output_type": "stream",
     "text": [
      "SVD: Selected 43 components retaining 0.9505 variance.\n"
     ]
    },
    {
     "name": "stderr",
     "output_type": "stream",
     "text": [
      "EVD Computation: 100%|██████████| 2/2 [00:00<00:00, 21.24it/s]\n"
     ]
    },
    {
     "name": "stdout",
     "output_type": "stream",
     "text": [
      "EVD: Selected 43 components retaining 0.9505 variance.\n",
      "Covertype SVD Reduced Features: 43\n",
      "Covertype EVD Reduced Features: 43\n",
      "\n",
      "Neural Network Results on Covertype Dataset:\n"
     ]
    },
    {
     "name": "stderr",
     "output_type": "stream",
     "text": [
      "NN Training (Original Data (Covertype)) - E10 B128: 100%|██████████| 10/10 [00:36<00:00,  3.65s/it]\n",
      "NN Evaluation (Original Data (Covertype)): 100%|██████████| 1/1 [00:00<00:00,  1.70it/s]\n"
     ]
    },
    {
     "name": "stdout",
     "output_type": "stream",
     "text": [
      "Original Data (Covertype) - Features: 54, Accuracy: 0.8661, Training Time: 36.50s, Inference Time: 0.59s\n"
     ]
    },
    {
     "name": "stderr",
     "output_type": "stream",
     "text": [
      "NN Training (SVD Reduced Data (Covertype)) - E10 B128: 100%|██████████| 10/10 [00:35<00:00,  3.54s/it]\n",
      "NN Evaluation (SVD Reduced Data (Covertype)): 100%|██████████| 1/1 [00:00<00:00,  1.63it/s]\n"
     ]
    },
    {
     "name": "stdout",
     "output_type": "stream",
     "text": [
      "SVD Reduced Data (Covertype) - Features: 43, Accuracy: 0.8310, Training Time: 35.37s, Inference Time: 0.61s\n"
     ]
    },
    {
     "name": "stderr",
     "output_type": "stream",
     "text": [
      "NN Training (EVD Reduced Data (Covertype)) - E10 B128: 100%|██████████| 10/10 [00:36<00:00,  3.69s/it]\n",
      "NN Evaluation (EVD Reduced Data (Covertype)): 100%|██████████| 1/1 [00:00<00:00,  1.83it/s]"
     ]
    },
    {
     "name": "stdout",
     "output_type": "stream",
     "text": [
      "EVD Reduced Data (Covertype) - Features: 43, Accuracy: 0.8327, Training Time: 36.89s, Inference Time: 0.55s\n"
     ]
    },
    {
     "name": "stderr",
     "output_type": "stream",
     "text": [
      "\n"
     ]
    }
   ],
   "source": [
    "if X_wine_train is not None:\n",
    "    print(f\"\\nWine Original Features: {X_wine_train.shape[1]}\")\n",
    "    V_wine_svd = get_svd_transform_matrix(X_wine_train, 0.95, use_linalg_svd=False)\n",
    "    eigvecs_wine_evd = get_evd_transform_matrix(X_wine_train, 0.95)\n",
    "    \n",
    "    X_wine_train_svd, X_wine_test_svd = (X_wine_train @ V_wine_svd, X_wine_test @ V_wine_svd) if V_wine_svd is not None else (None, None)\n",
    "    X_wine_train_evd, X_wine_test_evd = (X_wine_train @ eigvecs_wine_evd, X_wine_test @ eigvecs_wine_evd) if eigvecs_wine_evd is not None else (None, None)\n",
    "    if X_wine_train_svd is not None: print(f\"Wine SVD Reduced Features: {X_wine_train_svd.shape[1]}\")\n",
    "    if X_wine_train_evd is not None: print(f\"Wine EVD Reduced Features: {X_wine_train_evd.shape[1]}\")\n",
    "\n",
    "    print(\"\\nKNN Results on Wine Dataset:\")\n",
    "    train_knn(X_wine_train, X_wine_test, y_wine_train, y_wine_test, \"Original Data (Wine)\")\n",
    "    train_knn(X_wine_train_svd, X_wine_test_svd, y_wine_train, y_wine_test, \"SVD Reduced Data (Wine)\")\n",
    "    train_knn(X_wine_train_evd, X_wine_test_evd, y_wine_train, y_wine_test, \"EVD Reduced Data (Wine)\")\n",
    "\n",
    "for ds in datasets_for_nn:\n",
    "    name = ds[\"name\"]\n",
    "    X_train, X_test, y_train, y_test = ds[\"X_train\"], ds[\"X_test\"], ds[\"y_train\"], ds[\"y_test\"]\n",
    "    output_dim = ds[\"output_dim\"]\n",
    "    use_linalg = ds.get(\"use_linalg_svd\", True)\n",
    "\n",
    "    print(f\"\\n{name} Original Features: {X_train.shape[1]}\")\n",
    "    \n",
    "    V_svd, eigvecs_evd = None, None # Initialize\n",
    "    if X_train.shape[0] > 0 and X_train.shape[1] > 0 : # Ensure data is not empty for SVD/EVD\n",
    "        V_svd = get_svd_transform_matrix(X_train, 0.95, use_linalg_svd=use_linalg)\n",
    "        eigvecs_evd = get_evd_transform_matrix(X_train, 0.95)\n",
    "    \n",
    "        if name == \"MNIST\": # Store MNIST transformation matrices\n",
    "            mnist_components[\"V_svd_transform\"] = V_svd\n",
    "            mnist_components[\"eigvecs_evd_transform\"] = eigvecs_evd\n",
    "    else:\n",
    "        print(f\"Skipping SVD/EVD for {name} due to empty or zero-feature training data.\")\n",
    "\n",
    "\n",
    "    X_train_svd, X_test_svd = (X_train @ V_svd, X_test @ V_svd) if V_svd is not None and X_test is not None else (None, None)\n",
    "    X_train_evd, X_test_evd = (X_train @ eigvecs_evd, X_test @ eigvecs_evd) if eigvecs_evd is not None and X_test is not None else (None, None)\n",
    "    \n",
    "    if X_train_svd is not None: print(f\"{name} SVD Reduced Features: {X_train_svd.shape[1]}\")\n",
    "    if X_train_evd is not None: print(f\"{name} EVD Reduced Features: {X_train_evd.shape[1]}\")\n",
    "        \n",
    "    print(f\"\\nNeural Network Results on {name} Dataset:\")\n",
    "    model_orig, acc_orig = train_neural_network(X_train, X_test, y_train, y_test, f\"Original Data ({name})\", output_dim)\n",
    "    model_svd, acc_svd = train_neural_network(X_train_svd, X_test_svd, y_train, y_test, f\"SVD Reduced Data ({name})\", output_dim)\n",
    "    model_evd, acc_evd = train_neural_network(X_train_evd, X_test_evd, y_train, y_test, f\"EVD Reduced Data ({name})\", output_dim)\n",
    "\n",
    "    if name == \"MNIST\": # Store trained MNIST models\n",
    "        mnist_components[\"model_orig\"] = model_orig\n",
    "        mnist_components[\"model_svd\"] = model_svd\n",
    "        mnist_components[\"model_evd\"] = model_evd\n",
    "\n",
    "\n"
   ]
  },
  {
   "cell_type": "markdown",
   "metadata": {},
   "source": [
    "## 85% variance"
   ]
  },
  {
   "cell_type": "code",
   "execution_count": 8,
   "metadata": {},
   "outputs": [
    {
     "name": "stdout",
     "output_type": "stream",
     "text": [
      "\n",
      "Wine Original Features: 13\n"
     ]
    },
    {
     "name": "stderr",
     "output_type": "stream",
     "text": [
      "SVD Computation (Scratch): 100%|██████████| 3/3 [00:00<00:00, 433.83it/s]\n"
     ]
    },
    {
     "name": "stdout",
     "output_type": "stream",
     "text": [
      "SVD: Selected 10 components retaining 0.9629 variance.\n"
     ]
    },
    {
     "name": "stderr",
     "output_type": "stream",
     "text": [
      "EVD Computation: 100%|██████████| 2/2 [00:00<00:00, 5050.34it/s]\n"
     ]
    },
    {
     "name": "stdout",
     "output_type": "stream",
     "text": [
      "EVD: Selected 10 components retaining 0.9629 variance.\n",
      "Wine SVD Reduced Features: 10\n",
      "Wine EVD Reduced Features: 10\n",
      "\n",
      "KNN Results on Wine Dataset:\n"
     ]
    },
    {
     "name": "stderr",
     "output_type": "stream",
     "text": [
      "KNN Training (Original Data (Wine)): 100%|██████████| 2/2 [00:00<00:00, 561.34it/s]\n"
     ]
    },
    {
     "name": "stdout",
     "output_type": "stream",
     "text": [
      "Original Data (Wine) - Features: 13, Accuracy: 0.9722, Training Time: 0.00s, Inference Time: 0.00s\n"
     ]
    },
    {
     "name": "stderr",
     "output_type": "stream",
     "text": [
      "KNN Training (SVD Reduced Data (Wine)): 100%|██████████| 2/2 [00:00<00:00, 309.66it/s]\n"
     ]
    },
    {
     "name": "stdout",
     "output_type": "stream",
     "text": [
      "SVD Reduced Data (Wine) - Features: 10, Accuracy: 0.9722, Training Time: 0.00s, Inference Time: 0.00s\n"
     ]
    },
    {
     "name": "stderr",
     "output_type": "stream",
     "text": [
      "KNN Training (EVD Reduced Data (Wine)): 100%|██████████| 2/2 [00:00<00:00, 512.16it/s]\n"
     ]
    },
    {
     "name": "stdout",
     "output_type": "stream",
     "text": [
      "EVD Reduced Data (Wine) - Features: 10, Accuracy: 0.9722, Training Time: 0.00s, Inference Time: 0.00s\n",
      "\n",
      "Sensorless Original Features: 48\n"
     ]
    },
    {
     "name": "stderr",
     "output_type": "stream",
     "text": [
      "SVD Computation (linalg.svd): 100%|██████████| 1/1 [00:00<00:00, 12.62it/s]\n"
     ]
    },
    {
     "name": "stdout",
     "output_type": "stream",
     "text": [
      "SVD: Selected 14 components retaining 0.8656 variance.\n"
     ]
    },
    {
     "name": "stderr",
     "output_type": "stream",
     "text": [
      "EVD Computation: 100%|██████████| 2/2 [00:00<00:00, 219.60it/s]"
     ]
    },
    {
     "name": "stdout",
     "output_type": "stream",
     "text": [
      "EVD: Selected 14 components retaining 0.8656 variance.\n",
      "Sensorless SVD Reduced Features: 14\n",
      "Sensorless EVD Reduced Features: 14\n",
      "\n",
      "Neural Network Results on Sensorless Dataset:\n"
     ]
    },
    {
     "name": "stderr",
     "output_type": "stream",
     "text": [
      "\n",
      "NN Training (Original Data (Sensorless)) - E10 B32: 100%|██████████| 10/10 [00:04<00:00,  2.28it/s]\n",
      "NN Evaluation (Original Data (Sensorless)): 100%|██████████| 1/1 [00:00<00:00, 361.67it/s]\n"
     ]
    },
    {
     "name": "stdout",
     "output_type": "stream",
     "text": [
      "Original Data (Sensorless) - Features: 48, Accuracy: 0.9874, Training Time: 4.39s, Inference Time: 0.00s\n"
     ]
    },
    {
     "name": "stderr",
     "output_type": "stream",
     "text": [
      "NN Training (SVD Reduced Data (Sensorless)) - E10 B32: 100%|██████████| 10/10 [00:04<00:00,  2.36it/s]\n",
      "NN Evaluation (SVD Reduced Data (Sensorless)): 100%|██████████| 1/1 [00:00<00:00, 382.55it/s]\n"
     ]
    },
    {
     "name": "stdout",
     "output_type": "stream",
     "text": [
      "SVD Reduced Data (Sensorless) - Features: 14, Accuracy: 0.9100, Training Time: 4.23s, Inference Time: 0.00s\n"
     ]
    },
    {
     "name": "stderr",
     "output_type": "stream",
     "text": [
      "NN Training (EVD Reduced Data (Sensorless)) - E10 B32: 100%|██████████| 10/10 [00:04<00:00,  2.31it/s]\n",
      "NN Evaluation (EVD Reduced Data (Sensorless)): 100%|██████████| 1/1 [00:00<00:00, 80.97it/s]\n"
     ]
    },
    {
     "name": "stdout",
     "output_type": "stream",
     "text": [
      "EVD Reduced Data (Sensorless) - Features: 14, Accuracy: 0.9033, Training Time: 4.34s, Inference Time: 0.01s\n",
      "\n",
      "MNIST Original Features: 784\n"
     ]
    },
    {
     "name": "stderr",
     "output_type": "stream",
     "text": [
      "SVD Computation (linalg.svd): 100%|██████████| 1/1 [00:03<00:00,  3.12s/it]\n"
     ]
    },
    {
     "name": "stdout",
     "output_type": "stream",
     "text": [
      "SVD: Selected 185 components retaining 0.8504 variance.\n"
     ]
    },
    {
     "name": "stderr",
     "output_type": "stream",
     "text": [
      "EVD Computation: 100%|██████████| 2/2 [00:00<00:00,  4.47it/s]\n"
     ]
    },
    {
     "name": "stdout",
     "output_type": "stream",
     "text": [
      "EVD: Selected 185 components retaining 0.8504 variance.\n",
      "MNIST SVD Reduced Features: 185\n",
      "MNIST EVD Reduced Features: 185\n",
      "\n",
      "Neural Network Results on MNIST Dataset:\n"
     ]
    },
    {
     "name": "stderr",
     "output_type": "stream",
     "text": [
      "NN Training (Original Data (MNIST)) - E10 B32: 100%|██████████| 10/10 [00:09<00:00,  1.02it/s]\n",
      "NN Evaluation (Original Data (MNIST)): 100%|██████████| 1/1 [00:00<00:00, 202.81it/s]\n"
     ]
    },
    {
     "name": "stdout",
     "output_type": "stream",
     "text": [
      "Original Data (MNIST) - Features: 784, Accuracy: 0.9745, Training Time: 9.77s, Inference Time: 0.00s\n"
     ]
    },
    {
     "name": "stderr",
     "output_type": "stream",
     "text": [
      "NN Training (SVD Reduced Data (MNIST)) - E10 B32: 100%|██████████| 10/10 [00:06<00:00,  1.47it/s]\n",
      "NN Evaluation (SVD Reduced Data (MNIST)): 100%|██████████| 1/1 [00:00<00:00, 381.65it/s]\n"
     ]
    },
    {
     "name": "stdout",
     "output_type": "stream",
     "text": [
      "SVD Reduced Data (MNIST) - Features: 185, Accuracy: 0.9720, Training Time: 6.82s, Inference Time: 0.00s\n"
     ]
    },
    {
     "name": "stderr",
     "output_type": "stream",
     "text": [
      "NN Training (EVD Reduced Data (MNIST)) - E10 B32: 100%|██████████| 10/10 [00:06<00:00,  1.49it/s]\n",
      "NN Evaluation (EVD Reduced Data (MNIST)): 100%|██████████| 1/1 [00:00<00:00, 343.04it/s]\n"
     ]
    },
    {
     "name": "stdout",
     "output_type": "stream",
     "text": [
      "EVD Reduced Data (MNIST) - Features: 185, Accuracy: 0.9690, Training Time: 6.72s, Inference Time: 0.00s\n",
      "\n",
      "Newsgroups Original Features: 5000\n"
     ]
    },
    {
     "name": "stderr",
     "output_type": "stream",
     "text": [
      "SVD Computation (linalg.svd): 100%|██████████| 1/1 [00:43<00:00, 43.19s/it]\n"
     ]
    },
    {
     "name": "stdout",
     "output_type": "stream",
     "text": [
      "SVD: Selected 2121 components retaining 0.8500 variance.\n"
     ]
    },
    {
     "name": "stderr",
     "output_type": "stream",
     "text": [
      "EVD Computation: 100%|██████████| 2/2 [00:11<00:00,  5.93s/it]\n"
     ]
    },
    {
     "name": "stdout",
     "output_type": "stream",
     "text": [
      "EVD: Selected 2136 components retaining 0.8501 variance.\n",
      "Newsgroups SVD Reduced Features: 2121\n",
      "Newsgroups EVD Reduced Features: 2136\n",
      "\n",
      "Neural Network Results on Newsgroups Dataset:\n"
     ]
    },
    {
     "name": "stderr",
     "output_type": "stream",
     "text": [
      "NN Training (Original Data (Newsgroups)) - E10 B32: 100%|██████████| 10/10 [00:04<00:00,  2.23it/s]\n",
      "NN Evaluation (Original Data (Newsgroups)): 100%|██████████| 1/1 [00:00<00:00, 57.72it/s]\n"
     ]
    },
    {
     "name": "stdout",
     "output_type": "stream",
     "text": [
      "Original Data (Newsgroups) - Features: 5000, Accuracy: 0.5817, Training Time: 4.49s, Inference Time: 0.02s\n"
     ]
    },
    {
     "name": "stderr",
     "output_type": "stream",
     "text": [
      "NN Training (SVD Reduced Data (Newsgroups)) - E10 B32: 100%|██████████| 10/10 [00:02<00:00,  4.21it/s]\n",
      "NN Evaluation (SVD Reduced Data (Newsgroups)): 100%|██████████| 1/1 [00:00<00:00, 148.81it/s]\n"
     ]
    },
    {
     "name": "stdout",
     "output_type": "stream",
     "text": [
      "SVD Reduced Data (Newsgroups) - Features: 2121, Accuracy: 0.5672, Training Time: 2.38s, Inference Time: 0.01s\n"
     ]
    },
    {
     "name": "stderr",
     "output_type": "stream",
     "text": [
      "NN Training (EVD Reduced Data (Newsgroups)) - E10 B32: 100%|██████████| 10/10 [00:02<00:00,  4.51it/s]\n",
      "NN Evaluation (EVD Reduced Data (Newsgroups)): 100%|██████████| 1/1 [00:00<00:00, 145.37it/s]\n"
     ]
    },
    {
     "name": "stdout",
     "output_type": "stream",
     "text": [
      "EVD Reduced Data (Newsgroups) - Features: 2136, Accuracy: 0.5666, Training Time: 2.22s, Inference Time: 0.01s\n",
      "\n",
      "Covertype Original Features: 54\n"
     ]
    },
    {
     "name": "stderr",
     "output_type": "stream",
     "text": [
      "SVD Computation (linalg.svd): 100%|██████████| 1/1 [00:01<00:00,  1.08s/it]\n"
     ]
    },
    {
     "name": "stdout",
     "output_type": "stream",
     "text": [
      "SVD: Selected 37 components retaining 0.8532 variance.\n"
     ]
    },
    {
     "name": "stderr",
     "output_type": "stream",
     "text": [
      "EVD Computation: 100%|██████████| 2/2 [00:00<00:00, 18.94it/s]\n"
     ]
    },
    {
     "name": "stdout",
     "output_type": "stream",
     "text": [
      "EVD: Selected 37 components retaining 0.8532 variance.\n",
      "Covertype SVD Reduced Features: 37\n",
      "Covertype EVD Reduced Features: 37\n",
      "\n",
      "Neural Network Results on Covertype Dataset:\n"
     ]
    },
    {
     "name": "stderr",
     "output_type": "stream",
     "text": [
      "NN Training (Original Data (Covertype)) - E10 B128: 100%|██████████| 10/10 [00:22<00:00,  2.25s/it]\n",
      "NN Evaluation (Original Data (Covertype)): 100%|██████████| 1/1 [00:00<00:00,  2.79it/s]\n"
     ]
    },
    {
     "name": "stdout",
     "output_type": "stream",
     "text": [
      "Original Data (Covertype) - Features: 54, Accuracy: 0.8743, Training Time: 22.52s, Inference Time: 0.36s\n"
     ]
    },
    {
     "name": "stderr",
     "output_type": "stream",
     "text": [
      "NN Training (SVD Reduced Data (Covertype)) - E10 B128: 100%|██████████| 10/10 [00:21<00:00,  2.14s/it]\n",
      "NN Evaluation (SVD Reduced Data (Covertype)): 100%|██████████| 1/1 [00:00<00:00,  2.86it/s]\n"
     ]
    },
    {
     "name": "stdout",
     "output_type": "stream",
     "text": [
      "SVD Reduced Data (Covertype) - Features: 37, Accuracy: 0.8242, Training Time: 21.39s, Inference Time: 0.35s\n"
     ]
    },
    {
     "name": "stderr",
     "output_type": "stream",
     "text": [
      "NN Training (EVD Reduced Data (Covertype)) - E10 B128: 100%|██████████| 10/10 [00:21<00:00,  2.19s/it]\n",
      "NN Evaluation (EVD Reduced Data (Covertype)): 100%|██████████| 1/1 [00:00<00:00,  2.85it/s]"
     ]
    },
    {
     "name": "stdout",
     "output_type": "stream",
     "text": [
      "EVD Reduced Data (Covertype) - Features: 37, Accuracy: 0.8262, Training Time: 21.92s, Inference Time: 0.35s\n"
     ]
    },
    {
     "name": "stderr",
     "output_type": "stream",
     "text": [
      "\n"
     ]
    }
   ],
   "source": [
    "if X_wine_train is not None:\n",
    "    print(f\"\\nWine Original Features: {X_wine_train.shape[1]}\")\n",
    "    V_wine_svd = get_svd_transform_matrix(X_wine_train, 0.95, use_linalg_svd=False)\n",
    "    eigvecs_wine_evd = get_evd_transform_matrix(X_wine_train, 0.95)\n",
    "    \n",
    "    X_wine_train_svd, X_wine_test_svd = (X_wine_train @ V_wine_svd, X_wine_test @ V_wine_svd) if V_wine_svd is not None else (None, None)\n",
    "    X_wine_train_evd, X_wine_test_evd = (X_wine_train @ eigvecs_wine_evd, X_wine_test @ eigvecs_wine_evd) if eigvecs_wine_evd is not None else (None, None)\n",
    "    if X_wine_train_svd is not None: print(f\"Wine SVD Reduced Features: {X_wine_train_svd.shape[1]}\")\n",
    "    if X_wine_train_evd is not None: print(f\"Wine EVD Reduced Features: {X_wine_train_evd.shape[1]}\")\n",
    "\n",
    "    print(\"\\nKNN Results on Wine Dataset:\")\n",
    "    train_knn(X_wine_train, X_wine_test, y_wine_train, y_wine_test, \"Original Data (Wine)\")\n",
    "    train_knn(X_wine_train_svd, X_wine_test_svd, y_wine_train, y_wine_test, \"SVD Reduced Data (Wine)\")\n",
    "    train_knn(X_wine_train_evd, X_wine_test_evd, y_wine_train, y_wine_test, \"EVD Reduced Data (Wine)\")\n",
    "\n",
    "for ds in datasets_for_nn:\n",
    "    name = ds[\"name\"]\n",
    "    X_train, X_test, y_train, y_test = ds[\"X_train\"], ds[\"X_test\"], ds[\"y_train\"], ds[\"y_test\"]\n",
    "    output_dim = ds[\"output_dim\"]\n",
    "    use_linalg = ds.get(\"use_linalg_svd\", True)\n",
    "\n",
    "    print(f\"\\n{name} Original Features: {X_train.shape[1]}\")\n",
    "    \n",
    "    V_svd, eigvecs_evd = None, None # Initialize\n",
    "    if X_train.shape[0] > 0 and X_train.shape[1] > 0 : # Ensure data is not empty for SVD/EVD\n",
    "        V_svd = get_svd_transform_matrix(X_train, 0.85, use_linalg_svd=use_linalg)\n",
    "        eigvecs_evd = get_evd_transform_matrix(X_train, 0.85)\n",
    "    \n",
    "        if name == \"MNIST\": # Store MNIST transformation matrices\n",
    "            mnist_components[\"V_svd_transform\"] = V_svd\n",
    "            mnist_components[\"eigvecs_evd_transform\"] = eigvecs_evd\n",
    "    else:\n",
    "        print(f\"Skipping SVD/EVD for {name} due to empty or zero-feature training data.\")\n",
    "\n",
    "\n",
    "    X_train_svd, X_test_svd = (X_train @ V_svd, X_test @ V_svd) if V_svd is not None and X_test is not None else (None, None)\n",
    "    X_train_evd, X_test_evd = (X_train @ eigvecs_evd, X_test @ eigvecs_evd) if eigvecs_evd is not None and X_test is not None else (None, None)\n",
    "    \n",
    "    if X_train_svd is not None: print(f\"{name} SVD Reduced Features: {X_train_svd.shape[1]}\")\n",
    "    if X_train_evd is not None: print(f\"{name} EVD Reduced Features: {X_train_evd.shape[1]}\")\n",
    "        \n",
    "    print(f\"\\nNeural Network Results on {name} Dataset:\")\n",
    "    model_orig, acc_orig = train_neural_network(X_train, X_test, y_train, y_test, f\"Original Data ({name})\", output_dim)\n",
    "    model_svd, acc_svd = train_neural_network(X_train_svd, X_test_svd, y_train, y_test, f\"SVD Reduced Data ({name})\", output_dim)\n",
    "    model_evd, acc_evd = train_neural_network(X_train_evd, X_test_evd, y_train, y_test, f\"EVD Reduced Data ({name})\", output_dim)\n",
    "\n",
    "    if name == \"MNIST\": # Store trained MNIST models\n",
    "        mnist_components[\"model_orig\"] = model_orig\n",
    "        mnist_components[\"model_svd\"] = model_svd\n",
    "        mnist_components[\"model_evd\"] = model_evd\n",
    "\n",
    "\n"
   ]
  },
  {
   "cell_type": "code",
   "execution_count": 8,
   "metadata": {},
   "outputs": [
    {
     "name": "stdout",
     "output_type": "stream",
     "text": [
      "\n",
      "Displaying MNIST Predictions...\n"
     ]
    },
    {
     "data": {
      "image/png": "[encoded data removed]",
      "text/plain": [
       "<Figure size 1200x700 with 6 Axes>"
      ]
     },
     "metadata": {},
     "output_type": "display_data"
    }
   ],
   "source": [
    "# --- Show MNIST Predictions Plot ---\n",
    "if mnist_components[\"X_test_scaled\"] is not None and mnist_components[\"y_test_true\"] is not None:\n",
    "    show_mnist_predictions(\n",
    "        mnist_components[\"X_test_scaled\"],\n",
    "        mnist_components[\"y_test_true\"],\n",
    "        mnist_components[\"model_orig\"],\n",
    "        mnist_components[\"model_svd\"],\n",
    "        mnist_components[\"model_evd\"],\n",
    "        mnist_components[\"V_svd_transform\"],\n",
    "        mnist_components[\"eigvecs_evd_transform\"]\n",
    "    )\n",
    "else:\n",
    "    print(\"\\nSkipping MNIST prediction visualization as MNIST data was not loaded/processed.\")\n",
    "\n"
   ]
  },
  {
   "cell_type": "code",
   "execution_count": 1,
   "metadata": {},
   "outputs": [],
   "source": [
    "import numpy as np\n",
    "import pandas as pd\n",
    "import time\n",
    "from pathlib import Path\n",
    "from typing import Tuple, Optional\n",
    "\n",
    "from sklearn.datasets import load_digits\n",
    "from sklearn.preprocessing import StandardScaler\n",
    "from sklearn.model_selection import train_test_split\n",
    "from sklearn.neighbors import KNeighborsClassifier\n",
    "from sklearn.metrics import accuracy_score\n",
    "\n",
    "# ================================================================\n",
    "# 1)  ---  CORE LINEAR-ALGEBRA HELPERS  ---------------------------\n",
    "# ================================================================\n",
    "def power_iteration_sym(A: np.ndarray,\n",
    "                        num_iters: int = 1000,\n",
    "                        tol: float = 1e-6) -> Tuple[float, np.ndarray]:\n",
    "    \"\"\"Return dominant eigenvalue/vector of *symmetric* A via power-iteration.\"\"\"\n",
    "    n = A.shape[0]\n",
    "    v = np.random.randn(n)\n",
    "    v /= np.linalg.norm(v)\n",
    "    last_val = 0.0\n",
    "    for _ in range(num_iters):\n",
    "        w = A @ v\n",
    "        lam = np.dot(v, w)\n",
    "        v = w / np.linalg.norm(w)\n",
    "        if abs(lam - last_val) < tol:\n",
    "            break\n",
    "        last_val = lam\n",
    "    return lam, v\n",
    "\n",
    "\n",
    "def quick_evd_linalg(C: np.ndarray, k: int) -> Tuple[np.ndarray, np.ndarray]:\n",
    "    \"\"\"Top-k eigenvalues/vectors using `np.linalg.eigh` (C must be symmetric).\"\"\"\n",
    "    eigvals, eigvecs = np.linalg.eigh(C)\n",
    "    idx = np.argsort(eigvals)[::-1][:k]\n",
    "    return eigvals[idx], eigvecs[:, idx]\n",
    "\n",
    "\n",
    "def quick_svd_linalg(X: np.ndarray, k: int) -> Tuple[np.ndarray, np.ndarray, np.ndarray]:\n",
    "    \"\"\"Top-k SVD via `np.linalg.svd` (economy).\"\"\"\n",
    "    U, S, Vt = np.linalg.svd(X, full_matrices=False)\n",
    "    return U[:, :k], S[:k], Vt[:k, :]\n",
    "def svd_from_scratch_eighLinalg(X):\n",
    "    \"\"\"\n",
    "    Singular Value Decomposition from scratch using numpy.\n",
    "    \"\"\"\n",
    "    # Calculate X^T * X\n",
    "    XTX = X.T @ X\n",
    "\n",
    "    # Eigen decomposition of X^T * X to get V\n",
    "    eigenvalues_v, eigenvectors_v = np.linalg.eigh(XTX)\n",
    "    \n",
    "    # Sort them\n",
    "    sorted_indices_v = np.argsort(eigenvalues_v)[::-1]\n",
    "    singular_values_sq = eigenvalues_v[sorted_indices_v]\n",
    "    V = eigenvectors_v[:, sorted_indices_v]\n",
    "\n",
    "    # Calculate singular values\n",
    "    singular_values = np.sqrt(singular_values_sq)\n",
    "    \n",
    "    # Create Sigma matrix\n",
    "    Sigma = np.diag(singular_values)\n",
    "\n",
    "    # Calculate U\n",
    "    # U = A * V * Sigma_inv\n",
    "    # To avoid division by zero for small singular values, we compute U directly\n",
    "    U = []\n",
    "    for i in range(len(singular_values)):\n",
    "        if singular_values[i] > 1e-10: # A small threshold to handle floating point inaccuracies\n",
    "            u_i = (X @ V[:, i]) / singular_values[i]\n",
    "            U.append(u_i)\n",
    "    \n",
    "    U = np.array(U).T\n",
    "\n",
    "    return U, singular_values, V.T\n",
    "\n",
    "# ================================================================\n",
    "# 2)  ---  HIGH-LEVEL REDUCTION FUNCTIONS  ------------------------\n",
    "# ================================================================\n",
    "def evd_reduce(X: np.ndarray,\n",
    "               k: int,\n",
    "               *,\n",
    "               center: bool = True,\n",
    "               use_linalg: bool = True) -> Tuple[np.ndarray, np.ndarray, np.ndarray]:\n",
    "    \"\"\"\n",
    "    Reduce X (n_samples × n_features) to k dimensions via EVD/PCA.\n",
    "    Returns (X_reduced, eigvecs, eigvals).\n",
    "    \"\"\"\n",
    "    Xc = X - X.mean(axis=0) if center else X.copy()\n",
    "    C = (Xc.T @ Xc) / (Xc.shape[0] - 1)  # covariance\n",
    "    if use_linalg:\n",
    "        eigvals, eigvecs = quick_evd_linalg(C, k)\n",
    "    else:\n",
    "        # fall back to power-iteration deflation\n",
    "        eigvals = np.zeros(k)\n",
    "        eigvecs = np.zeros((C.shape[0], k))\n",
    "        C_work = C.copy()\n",
    "        for i in range(k):\n",
    "            lam, v = power_iteration_sym(C_work)\n",
    "            eigvals[i] = lam\n",
    "            eigvecs[:, i] = v\n",
    "            C_work -= lam * np.outer(v, v)\n",
    "    X_reduced = X @ eigvecs\n",
    "    return X_reduced, eigvecs, eigvals\n",
    "\n",
    "\n",
    "def svd_reduce(X: np.ndarray,\n",
    "               k: int,\n",
    "               *,\n",
    "               use_linalg: bool = True) -> Tuple[np.ndarray, np.ndarray, np.ndarray, np.ndarray]:\n",
    "    \"\"\"\n",
    "    Reduce X to k dimensions via (truncated) SVD.\n",
    "    Returns (X_reduced, U_k, S_k, Vt_k).\n",
    "    \"\"\"\n",
    "    if use_linalg:\n",
    "        U, S, Vt = quick_svd_linalg(X, k)\n",
    "    else:\n",
    "        # simple power-iteration SVD (costly for large k)  – demo only\n",
    "        from copy import deepcopy\n",
    "        A = deepcopy(X).astype(float)\n",
    "        m, n = A.shape\n",
    "        U = np.zeros((m, k))\n",
    "        Vt = np.zeros((k, n))\n",
    "        S = np.zeros(k)\n",
    "        for i in range(k):\n",
    "            # Right singular vector via power-iteration on AᵀA\n",
    "            _, v = power_iteration_sym(A.T @ A)\n",
    "            Av = A @ v\n",
    "            sigma = np.linalg.norm(Av)\n",
    "            u = Av / sigma\n",
    "            U[:, i] = u\n",
    "            Vt[i, :] = v\n",
    "            S[i] = sigma\n",
    "            A -= sigma * np.outer(u, v)\n",
    "    X_reduced = U * S  # low-dim coords\n",
    "    return X_reduced, U, S, Vt"
   ]
  }
 ],
 "metadata": {
  "kernelspec": {
   "display_name": "train",
   "language": "python",
   "name": "python3"
  },
  "language_info": {
   "codemirror_mode": {
    "name": "ipython",
    "version": 3
   },
   "file_extension": ".py",
   "mimetype": "text/x-python",
   "name": "python",
   "nbconvert_exporter": "python",
   "pygments_lexer": "ipython3",
   "version": "3.10.16"
  }
 },
 "nbformat": 4,
 "nbformat_minor": 2
}
